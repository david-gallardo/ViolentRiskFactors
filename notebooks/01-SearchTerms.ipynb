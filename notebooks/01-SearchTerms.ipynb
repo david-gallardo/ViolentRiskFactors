{
 "cells": [
  {
   "cell_type": "markdown",
   "metadata": {},
   "source": [
    "# Search Terms\n",
    "\n",
    "This project starts with curated collections of terms, including risk factor terms and potential associations, such as psychological, social, and criminological factors. Automated literature collection then gathers information from papers using those terms, utilizing [LISC](https://lisc-tools.github.io/). \n",
    "\n",
    "Current analysis takes two forms:\n",
    "- `Words` analyses: analyzes text data from articles that discuss risk factors for violence and recidivism\n",
    "    - This approach collects text and metadata from papers, and builds data-driven profiles for different risk factors\n",
    "- `Count` analyses: searches for co-occurrences of terms, between risk factors and associated terms\n",
    "    - This approach identifies patterns based on how commonly terms appear together\n",
    "\n",
    "This notebook introduces the terms that are used in the project.\n"
   ]
  },
  {
   "cell_type": "code",
   "execution_count": 19,
   "metadata": {},
   "outputs": [
    {
     "name": "stdout",
     "output_type": "stream",
     "text": [
      "0.3.0\n",
      "Collecting lisc\n",
      "  Using cached lisc-0.3.0-py3-none-any.whl.metadata (8.3 kB)\n",
      "Collecting numpy>=1.17.1 (from lisc)\n",
      "  Using cached numpy-2.0.2-cp39-cp39-macosx_14_0_arm64.whl.metadata (60 kB)\n",
      "Collecting requests (from lisc)\n",
      "  Using cached requests-2.32.3-py3-none-any.whl.metadata (4.6 kB)\n",
      "Collecting lxml (from lisc)\n",
      "  Using cached lxml-5.3.1-cp39-cp39-macosx_10_9_universal2.whl.metadata (3.7 kB)\n",
      "Collecting beautifulsoup4 (from lisc)\n",
      "  Using cached beautifulsoup4-4.13.3-py3-none-any.whl.metadata (3.8 kB)\n",
      "Collecting soupsieve>1.2 (from beautifulsoup4->lisc)\n",
      "  Using cached soupsieve-2.6-py3-none-any.whl.metadata (4.6 kB)\n",
      "Collecting typing-extensions>=4.0.0 (from beautifulsoup4->lisc)\n",
      "  Using cached typing_extensions-4.12.2-py3-none-any.whl.metadata (3.0 kB)\n",
      "Collecting charset-normalizer<4,>=2 (from requests->lisc)\n",
      "  Using cached charset_normalizer-3.4.1-cp39-cp39-macosx_10_9_universal2.whl.metadata (35 kB)\n",
      "Collecting idna<4,>=2.5 (from requests->lisc)\n",
      "  Using cached idna-3.10-py3-none-any.whl.metadata (10 kB)\n",
      "Collecting urllib3<3,>=1.21.1 (from requests->lisc)\n",
      "  Using cached urllib3-2.3.0-py3-none-any.whl.metadata (6.5 kB)\n",
      "Collecting certifi>=2017.4.17 (from requests->lisc)\n",
      "  Using cached certifi-2025.1.31-py3-none-any.whl.metadata (2.5 kB)\n",
      "Using cached lisc-0.3.0-py3-none-any.whl (99 kB)\n",
      "Using cached numpy-2.0.2-cp39-cp39-macosx_14_0_arm64.whl (5.3 MB)\n",
      "Using cached beautifulsoup4-4.13.3-py3-none-any.whl (186 kB)\n",
      "Using cached lxml-5.3.1-cp39-cp39-macosx_10_9_universal2.whl (8.1 MB)\n",
      "Using cached requests-2.32.3-py3-none-any.whl (64 kB)\n",
      "Using cached certifi-2025.1.31-py3-none-any.whl (166 kB)\n",
      "Using cached charset_normalizer-3.4.1-cp39-cp39-macosx_10_9_universal2.whl (197 kB)\n",
      "Using cached idna-3.10-py3-none-any.whl (70 kB)\n",
      "Using cached soupsieve-2.6-py3-none-any.whl (36 kB)\n",
      "Using cached typing_extensions-4.12.2-py3-none-any.whl (37 kB)\n",
      "Using cached urllib3-2.3.0-py3-none-any.whl (128 kB)\n",
      "\u001b[33mWARNING: Error parsing dependencies of lxml: [Errno 2] No such file or directory: '/Users/davidgallardo-pujol/Documents/GitHub/ViolentRiskFactors/.venv/lib/python3.9/site-packages/lxml-5.3.0.dist-info/METADATA'\u001b[0m\u001b[33m\n",
      "\u001b[0mInstalling collected packages: urllib3, typing-extensions, soupsieve, numpy, lxml, idna, charset-normalizer, certifi, requests, beautifulsoup4, lisc\n",
      "  Attempting uninstall: urllib3\n",
      "    Found existing installation: urllib3 2.3.0\n",
      "    Uninstalling urllib3-2.3.0:\n",
      "      Successfully uninstalled urllib3-2.3.0\n",
      "  Attempting uninstall: typing-extensions\n",
      "    Found existing installation: typing_extensions 4.12.2\n",
      "    Uninstalling typing_extensions-4.12.2:\n",
      "      Successfully uninstalled typing_extensions-4.12.2\n",
      "  Attempting uninstall: soupsieve\n",
      "    Found existing installation: soupsieve 2.6\n",
      "    Uninstalling soupsieve-2.6:\n",
      "      Successfully uninstalled soupsieve-2.6\n",
      "  Attempting uninstall: numpy\n",
      "    Found existing installation: numpy 2.0.2\n",
      "    Uninstalling numpy-2.0.2:\n",
      "      Successfully uninstalled numpy-2.0.2\n",
      "  Attempting uninstall: lxml\n",
      "\u001b[33m    WARNING: No metadata found in /Users/davidgallardo-pujol/Documents/GitHub/ViolentRiskFactors/.venv/lib/python3.9/site-packages\u001b[0m\u001b[33m\n",
      "\u001b[0m    Found existing installation: lxml 5.3.0\n",
      "\u001b[1;31merror\u001b[0m: \u001b[1muninstall-no-record-file\u001b[0m\n",
      "\n",
      "\u001b[31m×\u001b[0m Cannot uninstall lxml 5.3.0\n",
      "\u001b[31m╰─>\u001b[0m The package's contents are unknown: no RECORD file was found for lxml.\n",
      "\n",
      "\u001b[1;36mhint\u001b[0m: You might be able to recover from this via: \u001b[32mpip install --force-reinstall --no-deps lxml==5.3.0\u001b[0m\n"
     ]
    }
   ],
   "source": [
    "import lisc\n",
    "print(lisc.__version__)\n",
    "!pip install --upgrade --force-reinstall lisc\n",
    "\n",
    "\n"
   ]
  },
  {
   "cell_type": "code",
   "execution_count": 20,
   "metadata": {},
   "outputs": [
    {
     "name": "stdout",
     "output_type": "stream",
     "text": [
      "['SCDB', '__builtins__', '__cached__', '__doc__', '__file__', '__loader__', '__name__', '__package__', '__path__', '__spec__', 'create_file_structure', 'db', 'io', 'load_api_key', 'load_meta_data', 'load_object', 'load_time_results', 'load_txt_file', 'save_meta_data', 'save_object', 'save_time_results', 'utils']\n"
     ]
    }
   ],
   "source": [
    "import lisc.io\n",
    "print(dir(lisc.io))\n"
   ]
  },
  {
   "cell_type": "code",
   "execution_count": 21,
   "metadata": {},
   "outputs": [],
   "source": [
    "from collections import Counter\n",
    "\n",
    "# Import Base LISC object to load and check search terms\n",
    "from lisc.objects.base import Base\n",
    "from lisc.io import load_txt_file\n"
   ]
  },
  {
   "cell_type": "code",
   "execution_count": 22,
   "metadata": {},
   "outputs": [],
   "source": [
    "import seaborn as sns\n",
    "sns.set_context('talk')"
   ]
  },
  {
   "cell_type": "code",
   "execution_count": 23,
   "metadata": {},
   "outputs": [],
   "source": [
    "# Import custom project code\n",
    "import sys\n",
    "sys.path.append('../code')\n",
    "from plts import plot_latencies"
   ]
  },
  {
   "cell_type": "code",
   "execution_count": 24,
   "metadata": {},
   "outputs": [],
   "source": [
    "# Set the location of the terms\n",
    "term_dir = '../terms/'"
   ]
  },
  {
   "cell_type": "code",
   "execution_count": 25,
   "metadata": {},
   "outputs": [],
   "source": [
    "# Load a test object to check the terms\n",
    "risk_factors = Base()"
   ]
  },
  {
   "cell_type": "markdown",
   "metadata": {},
   "source": [
    "## Risk Factor Terms\n",
    "\n",
    "First, we can check the list of search terms used to find articles about risk factors for violence and recidivism.\n"
   ]
  },
  {
   "cell_type": "code",
   "execution_count": 26,
   "metadata": {
    "scrolled": true
   },
   "outputs": [],
   "source": [
    "# Load risk factors and labels terms from file\n",
    "risk_factors.add_terms('riskfactors.txt', directory=term_dir)\n",
    "risk_factors.add_labels('riskfactor_labels.txt', directory=term_dir)"
   ]
  },
  {
   "cell_type": "code",
   "execution_count": 27,
   "metadata": {},
   "outputs": [
    {
     "name": "stdout",
     "output_type": "stream",
     "text": [
      "Number of risk factor terms: 62\n"
     ]
    }
   ],
   "source": [
    "# Check the number of risk factor terms\n",
    "print('Number of risk factor terms: {}'.format(risk_factors.n_terms))"
   ]
  },
  {
   "cell_type": "markdown",
   "metadata": {},
   "source": [
    "# Risk Factor Term Formatting\n",
    "\n",
    "## Explanation of search term formatting\n",
    "In the list below, the left-most term is the label of the search term (not necessarily used as a search term), with any terms to the right of the colon listing search terms that were used. Any synonyms are separated by commas, and were used together in searches, with an OR operator.\n"
   ]
  },
  {
   "cell_type": "code",
   "execution_count": 28,
   "metadata": {},
   "outputs": [
    {
     "name": "stdout",
     "output_type": "stream",
     "text": [
      "List of terms used: \n",
      "\n",
      "Single-parent family             : Single-parent family, monoparental family, lone-parent family, single-parent household\n",
      "Two-parent family                : Two-parent family, nuclear family, dual-parent family, intact family\n",
      "Extended family                  : Extended family, multigenerational family, joint family, kinship network\n",
      "Divorced parents                 : Divorced parents, separated parents, dissolved marriage, marital dissolution\n",
      "Stable family                    : Stable family, intact family, cohesive family, supportive family\n",
      "Parental conflict                : Parental conflict, interparental conflict, marital conflict, parental discord\n",
      "Lack of supervision              : Lack of supervision, inadequate supervision, parental neglect, insufficient monitoring\n",
      "Emotional support                : Emotional support, psychological support, emotional assistance, affective support\n",
      "Family abuse                     : Family abuse, domestic abuse, familial abuse, intra-family violence\n",
      "External abuse                   : External abuse, external maltreatment, outside abuse, extrafamilial abuse\n",
      "Low income                       : Low income, poverty, financial hardship, economic disadvantage\n",
      "Large family                     : Large family, big family, numerous family members\n",
      "Antisocial thoughts              : Antisocial thoughts, deviant cognition, criminal mindset, unlawful thinking\n",
      "Moral reasoning                  : Moral reasoning, ethical judgment, value-based decision-making, moral cognition\n",
      "Individualistic attitudes        : Individualistic attitudes, self-centered attitudes, egocentric beliefs, personal autonomy values\n",
      "Prosocial attitudes              : Prosocial attitudes, cooperative attitudes, altruistic tendencies, social responsibility\n",
      "Antisocial attitudes             : Antisocial attitudes, deviant beliefs, oppositional attitudes, criminal inclination\n",
      "Self-preservation beliefs        : Self-preservation beliefs, survival instincts, self-interest motives, risk aversion\n",
      "Prosocial beliefs                : Prosocial beliefs, altruistic beliefs, ethical values, communal responsibility\n",
      "Distorted beliefs                : Distorted beliefs, irrational beliefs, cognitive distortions, misperceptions\n",
      "Individualistic values           : Individualistic values, personal independence, autonomy principles, self-sufficiency ideals\n",
      "Prosocial values                 : Prosocial values, societal responsibility, moral integrity, cooperative ethics\n",
      "Antisocial values                : Antisocial values, deviant values, criminal principles, oppositional values\n",
      "Hostility                        : Hostility, aggression, antagonism, resentment\n",
      "Anger states                     : Anger states, irritability, rage, emotional dysregulation\n",
      "Criminal neighborhood            : Criminal neighborhood, high-crime area, gang territory, unsafe community\n",
      "Childhood violence               : Childhood violence, early exposure to violence, youth aggression, developmental maltreatment\n",
      "Antisocial peers                 : Antisocial peers, deviant friends, delinquent associates, criminal companions\n",
      "Debt                             : Debt, financial strain, economic burden, monetary obligations\n",
      "Educational attainment           : Educational attainment, academic achievement, schooling level, educational background\n",
      "Vocational skills                : Vocational skills, job training, occupational competence, professional expertise\n",
      "Unemployment                     : Unemployment, joblessness, economic inactivity, labor market exclusion\n",
      "Work instability                 : Work instability, precarious employment, inconsistent work history, job turnover\n",
      "Prenatal tobacco exposure        : Prenatal tobacco exposure, maternal smoking, fetal nicotine exposure, in-utero tobacco exposure\n",
      "Prenatal alcohol exposure        : Prenatal alcohol exposure, fetal alcohol exposure, maternal alcohol use, in-utero alcohol exposure\n",
      "Prenatal drug exposure           : Prenatal drug exposure, fetal drug exposure, maternal substance use, in-utero drug exposure\n",
      "Alcohol use                      : Alcohol use, alcohol consumption, drinking behavior, substance use disorder\n",
      "Drug use                         : Drug use, substance abuse, illicit substance use, narcotics consumption\n",
      "Impulsivity                      : Impulsivity, rash decision-making, poor self-control, lack of foresight\n",
      "Lack of empathy                  : Lack of empathy, emotional detachment, callousness, diminished compassion\n",
      "Dark traits                      : Dark traits, Machiavellianism, psychopathy, narcissistic tendencies\n",
      "Attachment style                 : Attachment style, bonding pattern, relational attachment, emotional connectedness\n",
      "Aggressiveness                   : Aggressiveness, hostility, combative behavior, violent tendencies\n",
      "Sensation-seeking                : Sensation-seeking, thrill-seeking, novelty-seeking, risk-taking behavior\n",
      "Antisocial personality disorder  : Antisocial personality disorder, conduct disorder, psychopathy, personality pathology\n",
      "Personality disorder             : Personality disorder, maladaptive personality traits, psychological dysfunction, personality pathology\n",
      "Psychosis                        : Psychosis, schizophrenia spectrum disorder, severe mental illness, delusional thinking\n",
      "Anxiety                          : Anxiety, generalized anxiety disorder, excessive worry, emotional distress\n",
      "Depression                       : Depression, major depressive disorder, persistent sadness, mood disorder\n",
      "Extraversion                     : Extraversion, outgoing nature, social engagement, interpersonal dynamism\n",
      "Neuroticism                      : Neuroticism, emotional instability, psychological distress, negative affectivity\n",
      "Agreeableness                    : Agreeableness, cooperativeness, social harmony, interpersonal warmth\n",
      "Conscientiousness                : Conscientiousness, responsibility, self-discipline, goal-directed behavior\n",
      "Openness                         : Openness, intellectual curiosity, creativity, willingness to experience new things\n",
      "Early antisocial behavior        : Early antisocial behavior, childhood delinquency, early criminal tendencies, youth misconduct\n",
      "Parental incarceration           : Parental incarceration, imprisoned parents, parental criminal history, parental imprisonment\n",
      "Antisocial history               : Antisocial history, criminal record, history of delinquency, deviant past\n",
      "Unstructured activities          : Unstructured activities, lack of routine, unsupervised leisure, free-time instability\n",
      "Antisocial recreation            : Antisocial recreation, deviant hobbies, criminal pastimes, delinquent leisure activities\n",
      "Deviant sexuality                : Deviant sexual interest, paraphilia, pedophilia, sexual fantasies, pornography use, normalization, violent, sex, children, hypersexuality, impaired, sexual, functioning, absence, adult, partnerships\n",
      "Low self-esteem                  : Low self-esteem, lack of confidence, low self-worth, poor self-image, diminished self-respect, insecurity, self-doubt, negative self-concept, inadequate self-regard\n",
      "Sexual antecedents               : Sexual antecedents, multiple victims, minor victim, male victim, sexualized aggression\n"
     ]
    }
   ],
   "source": [
    "# Check list of search terms for the risk factor categories\n",
    "risk_factors.check_terms()"
   ]
  },
  {
   "cell_type": "markdown",
   "metadata": {},
   "source": [
    "### Risk Factor Exclusion Terms\n",
    "\n",
    "To exclude articles that might include unrelated meanings of our search terms (for example, the term 'debt' referring to economic policy rather than criminology), \n",
    "we use exclusion terms to remove irrelevant papers. \n",
    "\n",
    "These terms are integrated into the overall search query using a NOT operator to filter out articles that contain them.\n"
   ]
  },
  {
   "cell_type": "code",
   "execution_count": 29,
   "metadata": {},
   "outputs": [],
   "source": [
    "# Add exclusion words\n",
    "risk_factors.add_terms('erps_exclude.txt', term_type='exclusions', directory=term_dir)"
   ]
  },
  {
   "cell_type": "code",
   "execution_count": 30,
   "metadata": {
    "scrolled": false
   },
   "outputs": [
    {
     "name": "stdout",
     "output_type": "stream",
     "text": [
      "List of exclusions used: \n",
      "\n",
      "Single-parent family             : demography, socioeconomic, income, poverty, welfare, child support, obesity, language disorders, surgical complications, asthma, diabetes, cardiovascular disease, hypertension, chronic obstructive pulmonary disease, arthritis, cancer, migraine, epilepsy, hypothyroidism, osteoporosis, gastrointestinal disorders, renal disease\n",
      "Two-parent family                : demography, economic, household income, population studies, welfare, obesity, language disorders, surgical complications, asthma, diabetes, cardiovascular disease, hypertension, chronic obstructive pulmonary disease, arthritis, cancer, migraine, epilepsy, hypothyroidism, osteoporosis, gastrointestinal disorders, renal disease\n",
      "Extended family                  : demography, genealogy, cultural studies, economic, population, obesity, language disorders, surgical complications, asthma, diabetes, cardiovascular disease, hypertension, chronic obstructive pulmonary disease, arthritis, cancer, migraine, epilepsy, hypothyroidism, osteoporosis, gastrointestinal disorders, renal disease\n",
      "Divorced parents                 : legal, divorce law, custody, economic, sociology, obesity, language disorders, surgical complications, asthma, diabetes, cardiovascular disease, hypertension, chronic obstructive pulmonary disease, arthritis, cancer, migraine, epilepsy, hypothyroidism, osteoporosis, gastrointestinal disorders, renal disease\n",
      "Stable family                    : demography, economic, non-psychological, welfare, household structure, obesity, language disorders, surgical complications, asthma, diabetes, cardiovascular disease, hypertension, chronic obstructive pulmonary disease, arthritis, cancer, migraine, epilepsy, hypothyroidism, osteoporosis, gastrointestinal disorders, renal disease\n",
      "Parental conflict                : marital counseling, domestic disputes, divorce, financial conflicts, non-criminological, obesity, language disorders, surgical complications, asthma, diabetes, cardiovascular disease, hypertension, chronic obstructive pulmonary disease, arthritis, cancer, migraine, epilepsy, hypothyroidism, osteoporosis, gastrointestinal disorders, renal disease\n",
      "Lack of supervision              : academic performance, school discipline, child neglect, educational outcomes, obesity, language disorders, surgical complications, asthma, diabetes, cardiovascular disease, hypertension, chronic obstructive pulmonary disease, arthritis, cancer, migraine, epilepsy, hypothyroidism, osteoporosis, gastrointestinal disorders, renal disease\n",
      "Emotional support                : financial support, material aid, tangible support, economic assistance, obesity, language disorders, surgical complications, asthma, diabetes, cardiovascular disease, hypertension, chronic obstructive pulmonary disease, arthritis, cancer, migraine, epilepsy, hypothyroidism, osteoporosis, gastrointestinal disorders, renal disease\n",
      "Family abuse                     : legal proceedings, child protective services, domestic legal issues, non-psychological, obesity, language disorders, surgical complications, asthma, diabetes, cardiovascular disease, hypertension, chronic obstructive pulmonary disease, arthritis, cancer, migraine, epilepsy, hypothyroidism, osteoporosis, gastrointestinal disorders, renal disease\n",
      "External abuse                   : institutional abuse, non-familial violence, media violence, fictional portrayals, obesity, language disorders, surgical complications, asthma, diabetes, cardiovascular disease, hypertension, chronic obstructive pulmonary disease, arthritis, cancer, migraine, epilepsy, hypothyroidism, osteoporosis, gastrointestinal disorders, renal disease\n",
      "Low income                       : macroeconomics, fiscal policy, income inequality, economic trends, market analysis, obesity, language disorders, surgical complications, asthma, diabetes, cardiovascular disease, hypertension, chronic obstructive pulmonary disease, arthritis, cancer, migraine, epilepsy, hypothyroidism, osteoporosis, gastrointestinal disorders, renal disease\n",
      "Large family                     : demography, fertility rates, population studies, cultural norms, economic factors, obesity, language disorders, surgical complications, asthma, diabetes, cardiovascular disease, hypertension, chronic obstructive pulmonary disease, arthritis, cancer, migraine, epilepsy, hypothyroidism, osteoporosis, gastrointestinal disorders, renal disease\n",
      "Antisocial thoughts              : normal cognition, prosocial cognition, social desirability bias, non-criminal thinking, obesity, language disorders, surgical complications, asthma, diabetes, cardiovascular disease, hypertension, chronic obstructive pulmonary disease, arthritis, cancer, migraine, epilepsy, hypothyroidism, osteoporosis, gastrointestinal disorders, renal disease\n",
      "Moral reasoning                  : philosophical ethics, normative ethics, religious doctrine, theoretical models, obesity, language disorders, surgical complications, asthma, diabetes, cardiovascular disease, hypertension, chronic obstructive pulmonary disease, arthritis, cancer, migraine, epilepsy, hypothyroidism, osteoporosis, gastrointestinal disorders, renal disease\n",
      "Individualistic attitudes        : collectivist, group identity, cultural collectivism, political ideology, obesity, language disorders, surgical complications, asthma, diabetes, cardiovascular disease, hypertension, chronic obstructive pulmonary disease, arthritis, cancer, migraine, epilepsy, hypothyroidism, osteoporosis, gastrointestinal disorders, renal disease\n",
      "Prosocial attitudes              : idealism, non-risk, normative behavior, sociability (non-criminal), obesity, language disorders, surgical complications, asthma, diabetes, cardiovascular disease, hypertension, chronic obstructive pulmonary disease, arthritis, cancer, migraine, epilepsy, hypothyroidism, osteoporosis, gastrointestinal disorders, renal disease\n",
      "Antisocial attitudes             : non-criminal, prosocial, normative, idealistic, obesity, language disorders, surgical complications, asthma, diabetes, cardiovascular disease, hypertension, chronic obstructive pulmonary disease, arthritis, cancer, migraine, epilepsy, hypothyroidism, osteoporosis, gastrointestinal disorders, renal disease\n",
      "Self-preservation beliefs        : biological imperatives, evolutionary psychology, physical survival, health concerns, obesity, language disorders, surgical complications, asthma, diabetes, cardiovascular disease, hypertension, chronic obstructive pulmonary disease, arthritis, cancer, migraine, epilepsy, hypothyroidism, osteoporosis, gastrointestinal disorders, renal disease\n",
      "Prosocial beliefs                : economic motivations, demographic factors, religious beliefs, political ideology, obesity, language disorders, surgical complications, asthma, diabetes, cardiovascular disease, hypertension, chronic obstructive pulmonary disease, arthritis, cancer, migraine, epilepsy, hypothyroidism, osteoporosis, gastrointestinal disorders, renal disease\n",
      "Distorted beliefs                : conspiracy theories, ideological bias, misinformation, non-psychological distortions, obesity, language disorders, surgical complications, asthma, diabetes, cardiovascular disease, hypertension, chronic obstructive pulmonary disease, arthritis, cancer, migraine, epilepsy, hypothyroidism, osteoporosis, gastrointestinal disorders, renal disease\n",
      "Individualistic values           : collectivism, cultural norms, group-oriented values, political collectivism, obesity, language disorders, surgical complications, asthma, diabetes, cardiovascular disease, hypertension, chronic obstructive pulmonary disease, arthritis, cancer, migraine, epilepsy, hypothyroidism, osteoporosis, gastrointestinal disorders, renal disease\n",
      "Prosocial values                 : economic values, demographic factors, ideological conformity, theological values, obesity, language disorders, surgical complications, asthma, diabetes, cardiovascular disease, hypertension, chronic obstructive pulmonary disease, arthritis, cancer, migraine, epilepsy, hypothyroidism, osteoporosis, gastrointestinal disorders, renal disease\n",
      "Antisocial values                : non-criminal norms, cultural traditions, political ideology, theological doctrines, obesity, language disorders, surgical complications, asthma, diabetes, cardiovascular disease, hypertension, chronic obstructive pulmonary disease, arthritis, cancer, migraine, epilepsy, hypothyroidism, osteoporosis, gastrointestinal disorders, renal disease\n",
      "Hostility                        : transient anger, situational aggression, competitive behavior, non-criminal irritability, obesity, language disorders, surgical complications, asthma, diabetes, cardiovascular disease, hypertension, chronic obstructive pulmonary disease, arthritis, cancer, migraine, epilepsy, hypothyroidism, osteoporosis, gastrointestinal disorders, renal disease\n",
      "Anger states                     : temporary moods, performance-related anger, stage anger, non-pathological anger, obesity, language disorders, surgical complications, asthma, diabetes, cardiovascular disease, hypertension, chronic obstructive pulmonary disease, arthritis, cancer, migraine, epilepsy, hypothyroidism, osteoporosis, gastrointestinal disorders, renal disease\n",
      "Criminal neighborhood            : urban planning, geographical studies, real estate, infrastructure, demographic analysis, obesity, language disorders, surgical complications, asthma, diabetes, cardiovascular disease, hypertension, chronic obstructive pulmonary disease, arthritis, cancer, migraine, epilepsy, hypothyroidism, osteoporosis, gastrointestinal disorders, renal disease\n",
      "Childhood violence               : media violence, video game violence, fictional violence, adult violence, obesity, language disorders, surgical complications, asthma, diabetes, cardiovascular disease, hypertension, chronic obstructive pulmonary disease, arthritis, cancer, migraine, epilepsy, hypothyroidism, osteoporosis, gastrointestinal disorders, renal disease\n",
      "Antisocial peers                 : peer pressure in school, non-criminal social groups, organized sports, structured groups, obesity, language disorders, surgical complications, asthma, diabetes, cardiovascular disease, hypertension, chronic obstructive pulmonary disease, arthritis, cancer, migraine, epilepsy, hypothyroidism, osteoporosis, gastrointestinal disorders, renal disease\n",
      "Debt                             : bankruptcy, financial markets, macroeconomic analysis, credit systems, fiscal policy, obesity, language disorders, surgical complications, asthma, diabetes, cardiovascular disease, hypertension, chronic obstructive pulmonary disease, arthritis, cancer, migraine, epilepsy, hypothyroidism, osteoporosis, gastrointestinal disorders, renal disease\n",
      "Educational attainment           : academic performance, standardized testing, policy analysis, demographic studies, obesity, language disorders, surgical complications, asthma, diabetes, cardiovascular disease, hypertension, chronic obstructive pulmonary disease, arthritis, cancer, migraine, epilepsy, hypothyroidism, osteoporosis, gastrointestinal disorders, renal disease\n",
      "Vocational skills                : labor market, employment training, economic productivity, industry certification, obesity, language disorders, surgical complications, asthma, diabetes, cardiovascular disease, hypertension, chronic obstructive pulmonary disease, arthritis, cancer, migraine, epilepsy, hypothyroidism, osteoporosis, gastrointestinal disorders, renal disease\n",
      "Unemployment                     : macroeconomics, labor statistics, welfare studies, government policy, job market analysis, obesity, language disorders, surgical complications, asthma, diabetes, cardiovascular disease, hypertension, chronic obstructive pulmonary disease, arthritis, cancer, migraine, epilepsy, hypothyroidism, osteoporosis, gastrointestinal disorders, renal disease\n",
      "Work instability                 : organizational behavior, labor market dynamics, employment trends, economic analysis, obesity, language disorders, surgical complications, asthma, diabetes, cardiovascular disease, hypertension, chronic obstructive pulmonary disease, arthritis, cancer, migraine, epilepsy, hypothyroidism, osteoporosis, gastrointestinal disorders, renal disease\n",
      "Prenatal tobacco exposure        : clinical studies, obstetric research, neonatal health, smoking cessation programs, obesity, language disorders, surgical complications, asthma, diabetes, cardiovascular disease, hypertension, chronic obstructive pulmonary disease, arthritis, cancer, migraine, epilepsy, hypothyroidism, osteoporosis, gastrointestinal disorders, renal disease\n",
      "Prenatal alcohol exposure        : clinical research, obstetric studies, fetal alcohol syndrome, public health, obesity, language disorders, surgical complications, asthma, diabetes, cardiovascular disease, hypertension, chronic obstructive pulmonary disease, arthritis, cancer, migraine, epilepsy, hypothyroidism, osteoporosis, gastrointestinal disorders, renal disease\n",
      "Prenatal drug exposure           : toxicology, clinical studies, pharmacological research, obstetric health, obesity, language disorders, surgical complications, asthma, diabetes, cardiovascular disease, hypertension, chronic obstructive pulmonary disease, arthritis, cancer, migraine, epilepsy, hypothyroidism, osteoporosis, gastrointestinal disorders, renal disease\n",
      "Alcohol use                      : public health, epidemiology, clinical treatment, addiction medicine, biomedical research, obesity, language disorders, surgical complications, asthma, diabetes, cardiovascular disease, hypertension, chronic obstructive pulmonary disease, arthritis, cancer, migraine, epilepsy, hypothyroidism, osteoporosis, gastrointestinal disorders, renal disease\n",
      "Drug use                         : clinical treatment, epidemiological studies, public health, addiction medicine, biomedical research, obesity, language disorders, surgical complications, asthma, diabetes, cardiovascular disease, hypertension, chronic obstructive pulmonary disease, arthritis, cancer, migraine, epilepsy, hypothyroidism, osteoporosis, gastrointestinal disorders, renal disease\n",
      "Impulsivity                      : behavioral economics, cognitive control, attention deficit, non-risk behavior, obesity, language disorders, surgical complications, asthma, diabetes, cardiovascular disease, hypertension, chronic obstructive pulmonary disease, arthritis, cancer, migraine, epilepsy, hypothyroidism, osteoporosis, gastrointestinal disorders, renal disease\n",
      "Lack of empathy                  : neurological imaging, medical studies, social desirability, non-behavioral research, obesity, language disorders, surgical complications, asthma, diabetes, cardiovascular disease, hypertension, chronic obstructive pulmonary disease, arthritis, cancer, migraine, epilepsy, hypothyroidism, osteoporosis, gastrointestinal disorders, renal disease\n",
      "Dark traits                      : everyday personality, positive psychology, non-criminal traits, idealistic behavior, obesity, language disorders, surgical complications, asthma, diabetes, cardiovascular disease, hypertension, chronic obstructive pulmonary disease, arthritis, cancer, migraine, epilepsy, hypothyroidism, osteoporosis, gastrointestinal disorders, renal disease\n",
      "Attachment style                 : child development, parenting practices, demographic studies, non-psychological, obesity, language disorders, surgical complications, asthma, diabetes, cardiovascular disease, hypertension, chronic obstructive pulmonary disease, arthritis, cancer, migraine, epilepsy, hypothyroidism, osteoporosis, gastrointestinal disorders, renal disease\n",
      "Aggressiveness                   : competitive sports, situational aggression, temporary conflict, non-pathological aggression, obesity, language disorders, surgical complications, asthma, diabetes, cardiovascular disease, hypertension, chronic obstructive pulmonary disease, arthritis, cancer, migraine, epilepsy, hypothyroidism, osteoporosis, gastrointestinal disorders, renal disease\n",
      "Sensation-seeking                : extreme sports, recreational activities, leisure pursuits, non-risk behavior, obesity, language disorders, surgical complications, asthma, diabetes, cardiovascular disease, hypertension, chronic obstructive pulmonary disease, arthritis, cancer, migraine, epilepsy, hypothyroidism, osteoporosis, gastrointestinal disorders, renal disease\n",
      "Antisocial personality disorder  : clinical treatment, pharmacology, diagnostic criteria, medical case studies, obesity, language disorders, surgical complications, asthma, diabetes, cardiovascular disease, hypertension, chronic obstructive pulmonary disease, arthritis, cancer, migraine, epilepsy, hypothyroidism, osteoporosis, gastrointestinal disorders, renal disease\n",
      "Personality disorder             : clinical psychiatry, medical treatment, diagnostic criteria, comorbidity analysis, obesity, language disorders, surgical complications, asthma, diabetes, cardiovascular disease, hypertension, chronic obstructive pulmonary disease, arthritis, cancer, migraine, epilepsy, hypothyroidism, osteoporosis, gastrointestinal disorders, renal disease\n",
      "Psychosis                        : schizophrenia, clinical neurology, brain imaging, medical diagnosis, pharmacological treatment, obesity, language disorders, surgical complications, asthma, diabetes, cardiovascular disease, hypertension, chronic obstructive pulmonary disease, arthritis, cancer, migraine, epilepsy, hypothyroidism, osteoporosis, gastrointestinal disorders, renal disease\n",
      "Anxiety                          : clinical treatment, pharmacological studies, therapeutic intervention, medical research, obesity, language disorders, surgical complications, asthma, diabetes, cardiovascular disease, hypertension, chronic obstructive pulmonary disease, arthritis, cancer, migraine, epilepsy, hypothyroidism, osteoporosis, gastrointestinal disorders, renal disease\n",
      "Depression                       : clinical intervention, pharmacological treatment, medical diagnosis, therapeutic studies, obesity, language disorders, surgical complications, asthma, diabetes, cardiovascular disease, hypertension, chronic obstructive pulmonary disease, arthritis, cancer, migraine, epilepsy, hypothyroidism, osteoporosis, gastrointestinal disorders, renal disease\n",
      "Extraversion                     : non-risk behavior, social facilitation, positive social psychology, performance studies, obesity, language disorders, surgical complications, asthma, diabetes, cardiovascular disease, hypertension, chronic obstructive pulmonary disease, arthritis, cancer, migraine, epilepsy, hypothyroidism, osteoporosis, gastrointestinal disorders, renal disease\n",
      "Neuroticism                      : clinical treatment, emotional disorders, medical intervention, non-criminological, obesity, language disorders, surgical complications, asthma, diabetes, cardiovascular disease, hypertension, chronic obstructive pulmonary disease, arthritis, cancer, migraine, epilepsy, hypothyroidism, osteoporosis, gastrointestinal disorders, renal disease\n",
      "Agreeableness                    : non-risk behavior, positive social behavior, idealistic tendencies, social desirability, obesity, language disorders, surgical complications, asthma, diabetes, cardiovascular disease, hypertension, chronic obstructive pulmonary disease, arthritis, cancer, migraine, epilepsy, hypothyroidism, osteoporosis, gastrointestinal disorders, renal disease\n",
      "Conscientiousness                : organizational studies, academic performance, achievement motivation, non-criminal, obesity, language disorders, surgical complications, asthma, diabetes, cardiovascular disease, hypertension, chronic obstructive pulmonary disease, arthritis, cancer, migraine, epilepsy, hypothyroidism, osteoporosis, gastrointestinal disorders, renal disease\n",
      "Openness                         : creativity, artistic expression, ideological studies, non-risk behavior, obesity, language disorders, surgical complications, asthma, diabetes, cardiovascular disease, hypertension, chronic obstructive pulmonary disease, arthritis, cancer, migraine, epilepsy, hypothyroidism, osteoporosis, gastrointestinal disorders, renal disease\n",
      "Early antisocial behavior        : minor conduct issues, school disciplinary records, academic misconduct, non-criminal, obesity, language disorders, surgical complications, asthma, diabetes, cardiovascular disease, hypertension, chronic obstructive pulmonary disease, arthritis, cancer, migraine, epilepsy, hypothyroidism, osteoporosis, gastrointestinal disorders, renal disease\n",
      "Parental incarceration           : legal policy, correctional system, sociological studies, demographic analysis, obesity, language disorders, surgical complications, asthma, diabetes, cardiovascular disease, hypertension, chronic obstructive pulmonary disease, arthritis, cancer, migraine, epilepsy, hypothyroidism, osteoporosis, gastrointestinal disorders, renal disease\n",
      "Antisocial history               : criminal records, court proceedings, legal documentation, non-behavioral studies, obesity, language disorders, surgical complications, asthma, diabetes, cardiovascular disease, hypertension, chronic obstructive pulmonary disease, arthritis, cancer, migraine, epilepsy, hypothyroidism, osteoporosis, gastrointestinal disorders, renal disease\n",
      "Unstructured activities          : organized sports, structured programs, academic activities, leisure studies, obesity, language disorders, surgical complications, asthma, diabetes, cardiovascular disease, hypertension, chronic obstructive pulmonary disease, arthritis, cancer, migraine, epilepsy, hypothyroidism, osteoporosis, gastrointestinal disorders, renal disease\n",
      "Antisocial recreation            : organized recreation, family activities, structured leisure, non-risk recreational, obesity, language disorders, surgical complications, asthma, diabetes, cardiovascular disease, hypertension, chronic obstructive pulmonary disease, arthritis, cancer, migraine, epilepsy, hypothyroidism, osteoporosis, gastrointestinal disorders, renal disease\n",
      "Deviant sexuality                : criminal records, court proceedings, legal documentation, non-behavioral studies, obesity, language disorders, surgical complications, asthma, diabetes, cardiovascular disease, hypertension, chronic obstructive pulmonary disease, arthritis, cancer, migraine, epilepsy, hypothyroidism, osteoporosis, gastrointestinal disorders, renal disease\n",
      "Low self-esteem                  : criminal records, court proceedings, legal documentation, non-behavioral studies, obesity, language disorders, surgical complications, asthma, diabetes, cardiovascular disease, hypertension, chronic obstructive pulmonary disease, arthritis, cancer, migraine, epilepsy, hypothyroidism, osteoporosis, gastrointestinal disorders, renal disease\n",
      "Sexual antecedents               : criminal records, court proceedings, legal documentation, non-behavioral studies, obesity, language disorders, surgical complications, asthma, diabetes, cardiovascular disease, hypertension, chronic obstructive pulmonary disease, arthritis, cancer, migraine, epilepsy, hypothyroidism, osteoporosis, gastrointestinal disorders, renal disease\n"
     ]
    }
   ],
   "source": [
    "# Check the risk factor exclusion terms used\n",
    "risk_factors.check_terms('exclusions')"
   ]
  },
  {
   "cell_type": "markdown",
   "metadata": {},
   "source": [
    "## Association Terms\n",
    "\n",
    "As well as search terms for risk factors, we collected lists of potential association terms. \n",
    "\n",
    "Groups of association terms include:\n",
    "- violence-related terms\n",
    "- recidivism-related terms\n"
   ]
  },
  {
   "cell_type": "markdown",
   "metadata": {},
   "source": [
    "### Violence-Related Terms\n",
    "\n",
    "First, we curated a list of violence-related association terms, to investigate research on violence and its risk factors.\n"
   ]
  },
  {
   "cell_type": "code",
   "execution_count": 31,
   "metadata": {},
   "outputs": [],
   "source": [
    "# Load violence-related terms from file\n",
    "violence_terms = Base()\n",
    "violence_terms.add_terms('violence.txt', directory=term_dir)"
   ]
  },
  {
   "cell_type": "code",
   "execution_count": 32,
   "metadata": {},
   "outputs": [
    {
     "name": "stdout",
     "output_type": "stream",
     "text": [
      "Number of violence-related terms: 4\n"
     ]
    }
   ],
   "source": [
    "# Check the number of violence-related terms\n",
    "print('Number of violence-related terms: {}'.format(violence_terms.n_terms))"
   ]
  },
  {
   "cell_type": "code",
   "execution_count": 33,
   "metadata": {},
   "outputs": [
    {
     "name": "stdout",
     "output_type": "stream",
     "text": [
      "List of terms used: \n",
      "\n",
      "physical violence       : physical violence, violence, assault, battery, physical aggression\n",
      "sexual violence         : sexual violence, sexual assault, sexual abuse, rape, molestation\n",
      "psychological violence  : psychological violence, emotional abuse, psychological abuse, mental abuse, verbal abuse\n",
      "neglect                 : neglect, abandonment, deprivation, disregard\n"
     ]
    }
   ],
   "source": [
    "# Check the violence-related terms used\n",
    "violence_terms.check_terms()"
   ]
  },
  {
   "cell_type": "markdown",
   "metadata": {},
   "source": [
    "### Recidivism-Related Terms\n",
    "\n",
    "Finally, we curated a list of recidivism-related terms to search for research related to repeated offending and criminal relapse.\n"
   ]
  },
  {
   "cell_type": "code",
   "execution_count": 34,
   "metadata": {},
   "outputs": [],
   "source": [
    "# Load recidivism-related terms from file\n",
    "recidivism_terms = Base()\n",
    "recidivism_terms.add_terms('recidivism.txt', directory=term_dir)"
   ]
  },
  {
   "cell_type": "code",
   "execution_count": 35,
   "metadata": {},
   "outputs": [
    {
     "name": "stdout",
     "output_type": "stream",
     "text": [
      "Number of recidivism-related terms: 3\n"
     ]
    }
   ],
   "source": [
    "# Check the number of recidivism-related terms\n",
    "print('Number of recidivism-related terms: {}'.format(recidivism_terms.n_terms))\n"
   ]
  },
  {
   "cell_type": "code",
   "execution_count": 36,
   "metadata": {},
   "outputs": [
    {
     "name": "stdout",
     "output_type": "stream",
     "text": [
      "List of terms used: \n",
      "\n",
      "violent recidivism  : violent recidivism, reoffending, relapse into violence, repeat violence, violent repeat offending\n",
      "general recidivism  : general recidivism, recidivism, reoffending, repeat offending, criminal relapse\n",
      "sexual recidivism   : sexual recidivism, sexual recidivism, sexual reoffending, sexual repeat offending, sexual relapse\n"
     ]
    }
   ],
   "source": [
    "# Check the recidivism-related terms used\n",
    "recidivism_terms.check_terms()"
   ]
  }
 ],
 "metadata": {
  "anaconda-cloud": {},
  "kernelspec": {
   "display_name": ".venv",
   "language": "python",
   "name": "python3"
  },
  "language_info": {
   "codemirror_mode": {
    "name": "ipython",
    "version": 3
   },
   "file_extension": ".py",
   "mimetype": "text/x-python",
   "name": "python",
   "nbconvert_exporter": "python",
   "pygments_lexer": "ipython3",
   "version": "3.9.6"
  }
 },
 "nbformat": 4,
 "nbformat_minor": 1
}
